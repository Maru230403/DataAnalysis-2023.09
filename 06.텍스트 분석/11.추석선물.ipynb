{
 "cells": [
  {
   "cell_type": "markdown",
   "metadata": {},
   "source": [
    "## 네이버 지식IN - 추석선물"
   ]
  },
  {
   "cell_type": "code",
   "execution_count": 1,
   "metadata": {},
   "outputs": [],
   "source": [
    "import time\n",
    "from selenium import webdriver\n",
    "from selenium.webdriver.common.by import By\n",
    "from bs4 import BeautifulSoup\n",
    "from urllib.parse import quote\n",
    "from tqdm import tqdm"
   ]
  },
  {
   "cell_type": "markdown",
   "metadata": {},
   "source": [
    "- 지식인 추석 선물 검색결과 화면"
   ]
  },
  {
   "cell_type": "code",
   "execution_count": 2,
   "metadata": {},
   "outputs": [
    {
     "name": "stderr",
     "output_type": "stream",
     "text": [
      "The chromedriver version (117.0.5938.88) detected in PATH at C:\\Users\\human\\Downloads\\chromedriver.exe might not be compatible with the detected chrome version (118.0.5993.71); currently, chromedriver 118.0.5993.70 is recommended for chrome 118.*, so it is advised to delete the driver in PATH and retry\n"
     ]
    }
   ],
   "source": [
    "url = f'https://kin.naver.com/search/list.naver?query={quote(\"추석 선물\")}&page=1'\n",
    "driver = webdriver.Chrome()\n",
    "driver.get(url)\n",
    "soup = BeautifulSoup(driver.page_source, 'html.parser')"
   ]
  },
  {
   "cell_type": "code",
   "execution_count": 4,
   "metadata": {},
   "outputs": [
    {
     "data": {
      "text/plain": [
       "10"
      ]
     },
     "execution_count": 4,
     "metadata": {},
     "output_type": "execute_result"
    }
   ],
   "source": [
    "lis = soup.select('.basic1 > li')\n",
    "len(lis)"
   ]
  },
  {
   "cell_type": "markdown",
   "metadata": {},
   "source": [
    "- 답변 갯수가 5개보다 큰 항목을 선택"
   ]
  },
  {
   "cell_type": "code",
   "execution_count": 5,
   "metadata": {},
   "outputs": [
    {
     "data": {
      "text/plain": [
       "'https://kin.naver.com/qna/detail.naver?d1id=5&dirId=50801&docId=454642025&qb=7LaU7ISdIOyEoOusvA==&enc=utf8&section=kin&rank=8&search_sort=0&spq=0'"
      ]
     },
     "execution_count": 5,
     "metadata": {},
     "output_type": "execute_result"
    }
   ],
   "source": [
    "li = lis[7]\n",
    "sub_url = li.select_one('a._searchListTitleAnchor')['href']\n",
    "sub_url"
   ]
  },
  {
   "cell_type": "code",
   "execution_count": 6,
   "metadata": {},
   "outputs": [],
   "source": [
    "driver.get(sub_url)\n",
    "time.sleep(2)"
   ]
  },
  {
   "cell_type": "code",
   "execution_count": 7,
   "metadata": {},
   "outputs": [
    {
     "data": {
      "text/plain": [
       "('2', 0)"
      ]
     },
     "execution_count": 7,
     "metadata": {},
     "output_type": "execute_result"
    }
   ],
   "source": [
    "# 더 보기 클릭 횟수 구하기\n",
    "answer_num = driver.find_element(By.CSS_SELECTOR, '._answerCount.num').text\n",
    "click_count = (int(answer_num) - 1) // 5\n",
    "answer_num, click_count"
   ]
  },
  {
   "cell_type": "code",
   "execution_count": 8,
   "metadata": {},
   "outputs": [],
   "source": [
    "#  더 보기 횟수 만큼 클릭하기\n",
    "for _ in range(click_count):\n",
    "    driver.find_element(By.ID, 'nextPageButton').click()\n",
    "    time.sleep(2)\n",
    "    "
   ]
  },
  {
   "cell_type": "code",
   "execution_count": 9,
   "metadata": {},
   "outputs": [
    {
     "data": {
      "text/plain": [
       "2"
      ]
     },
     "execution_count": 9,
     "metadata": {},
     "output_type": "execute_result"
    }
   ],
   "source": [
    "# 펼쳐진 화면을 BeautifulSoup으로 파싱\n",
    "sub_soup = BeautifulSoup(driver.page_source, 'html.parser')\n",
    "divs = sub_soup.select('.answer-content__list._answerList > div')\n",
    "len(divs)"
   ]
  },
  {
   "cell_type": "code",
   "execution_count": 10,
   "metadata": {},
   "outputs": [
    {
     "data": {
      "text/plain": [
       "9"
      ]
     },
     "execution_count": 10,
     "metadata": {},
     "output_type": "execute_result"
    }
   ],
   "source": [
    "# 답변 목록에서 개별을 선택한 글을 추출하기\n",
    "div = divs[0]\n",
    "ps = div.select('.se-text-paragraph.se-text-paragraph-align-')\n",
    "len(ps)"
   ]
  },
  {
   "cell_type": "code",
   "execution_count": 11,
   "metadata": {},
   "outputs": [
    {
     "name": "stdout",
     "output_type": "stream",
     "text": [
      "저도 양가 부모님 영양제선물알아보기도하고 저도 여러제품들 먹어봤는데요.\n",
      "정관장도 무난했던거같고 그런데 홍삼이 이제 안받더라구요.\n",
      "영양제중에서는 뉴트원제품이 약사개발이어서 그런가 브\n"
     ]
    }
   ],
   "source": [
    "answer = ''\n",
    "for p in ps:\n",
    "    text = p.get_text().strip()\n",
    "    if text == '\\u200b' or text == '':\n",
    "        continue\n",
    "    answer += text + '\\n'\n",
    "print(answer[:100])"
   ]
  },
  {
   "cell_type": "code",
   "execution_count": 49,
   "metadata": {},
   "outputs": [],
   "source": [
    "# 답변 목록에 있는 모든 답변을 선택해서 글을 추출하기\n",
    "answer_list = []\n",
    "for div in divs:\n",
    "    ps = div.select('.se-text-paragraph.se-text-paragraph-align-')\n",
    "    answer = ''\n",
    "    for p in ps:\n",
    "        text = p.get_text().strip()\n",
    "        if text == '\\u200b' or text == '':\n",
    "            continue\n",
    "        answer += text + '\\n'\n",
    "    answer_list.append(answer)\n"
   ]
  },
  {
   "cell_type": "code",
   "execution_count": 50,
   "metadata": {},
   "outputs": [
    {
     "data": {
      "text/plain": [
       "8"
      ]
     },
     "execution_count": 50,
     "metadata": {},
     "output_type": "execute_result"
    }
   ],
   "source": [
    "len(answer_list)"
   ]
  },
  {
   "cell_type": "code",
   "execution_count": 51,
   "metadata": {},
   "outputs": [],
   "source": [
    "driver.back()"
   ]
  },
  {
   "cell_type": "markdown",
   "metadata": {},
   "source": [
    "- 한 화면에 있는 10개의 글에서 모든 답변을 추출하기"
   ]
  },
  {
   "cell_type": "code",
   "execution_count": 65,
   "metadata": {},
   "outputs": [
    {
     "ename": "NoSuchWindowException",
     "evalue": "Message: no such window: target window already closed\nfrom unknown error: web view not found\n  (Session info: chrome=117.0.5938.89)\nStacktrace:\n\tGetHandleVerifier [0x00007FF6ED1178A2+54818]\n\t(No symbol) [0x00007FF6ED086AD2]\n\t(No symbol) [0x00007FF6ECF3DA3B]\n\t(No symbol) [0x00007FF6ECF1DEE8]\n\t(No symbol) [0x00007FF6ECFA3237]\n\t(No symbol) [0x00007FF6ECFB6C6F]\n\t(No symbol) [0x00007FF6ECF9E883]\n\t(No symbol) [0x00007FF6ECF73691]\n\t(No symbol) [0x00007FF6ECF748D4]\n\tGetHandleVerifier [0x00007FF6ED47B9A2+3610402]\n\tGetHandleVerifier [0x00007FF6ED4D1870+3962352]\n\tGetHandleVerifier [0x00007FF6ED4C9D5F+3930847]\n\tGetHandleVerifier [0x00007FF6ED1B3656+693206]\n\t(No symbol) [0x00007FF6ED091638]\n\t(No symbol) [0x00007FF6ED08D944]\n\t(No symbol) [0x00007FF6ED08DA72]\n\t(No symbol) [0x00007FF6ED07E123]\n\tBaseThreadInitThunk [0x00007FFE07797344+20]\n\tRtlUserThreadStart [0x00007FFE07D426B1+33]\n",
     "output_type": "error",
     "traceback": [
      "\u001b[1;31m---------------------------------------------------------------------------\u001b[0m",
      "\u001b[1;31mNoSuchWindowException\u001b[0m                     Traceback (most recent call last)",
      "\u001b[1;32md:\\WorkSpace\\02.DataAnalysis\\06.텍스트 분석\\11.추석선물.ipynb 셀 18\u001b[0m line \u001b[0;36m4\n\u001b[0;32m      <a href='vscode-notebook-cell:/d%3A/WorkSpace/02.DataAnalysis/06.%ED%85%8D%EC%8A%A4%ED%8A%B8%20%EB%B6%84%EC%84%9D/11.%EC%B6%94%EC%84%9D%EC%84%A0%EB%AC%BC.ipynb#X23sZmlsZQ%3D%3D?line=1'>2</a>\u001b[0m \u001b[39mfor\u001b[39;00m li \u001b[39min\u001b[39;00m lis:\n\u001b[0;32m      <a href='vscode-notebook-cell:/d%3A/WorkSpace/02.DataAnalysis/06.%ED%85%8D%EC%8A%A4%ED%8A%B8%20%EB%B6%84%EC%84%9D/11.%EC%B6%94%EC%84%9D%EC%84%A0%EB%AC%BC.ipynb#X23sZmlsZQ%3D%3D?line=2'>3</a>\u001b[0m     sub_url \u001b[39m=\u001b[39m li\u001b[39m.\u001b[39mselect_one(\u001b[39m'\u001b[39m\u001b[39ma._searchListTitleAnchor\u001b[39m\u001b[39m'\u001b[39m)[\u001b[39m'\u001b[39m\u001b[39mhref\u001b[39m\u001b[39m'\u001b[39m]\n\u001b[1;32m----> <a href='vscode-notebook-cell:/d%3A/WorkSpace/02.DataAnalysis/06.%ED%85%8D%EC%8A%A4%ED%8A%B8%20%EB%B6%84%EC%84%9D/11.%EC%B6%94%EC%84%9D%EC%84%A0%EB%AC%BC.ipynb#X23sZmlsZQ%3D%3D?line=3'>4</a>\u001b[0m     driver\u001b[39m.\u001b[39mget(sub_url)\n\u001b[0;32m      <a href='vscode-notebook-cell:/d%3A/WorkSpace/02.DataAnalysis/06.%ED%85%8D%EC%8A%A4%ED%8A%B8%20%EB%B6%84%EC%84%9D/11.%EC%B6%94%EC%84%9D%EC%84%A0%EB%AC%BC.ipynb#X23sZmlsZQ%3D%3D?line=4'>5</a>\u001b[0m     time\u001b[39m.\u001b[39msleep(\u001b[39m2\u001b[39m)\n\u001b[0;32m      <a href='vscode-notebook-cell:/d%3A/WorkSpace/02.DataAnalysis/06.%ED%85%8D%EC%8A%A4%ED%8A%B8%20%EB%B6%84%EC%84%9D/11.%EC%B6%94%EC%84%9D%EC%84%A0%EB%AC%BC.ipynb#X23sZmlsZQ%3D%3D?line=6'>7</a>\u001b[0m     answer_num \u001b[39m=\u001b[39m driver\u001b[39m.\u001b[39mfind_element(By\u001b[39m.\u001b[39mCSS_SELECTOR, \u001b[39m'\u001b[39m\u001b[39m._answerCount.num\u001b[39m\u001b[39m'\u001b[39m)\u001b[39m.\u001b[39mtext\n",
      "File \u001b[1;32mc:\\Users\\human\\anaconda3\\Lib\\site-packages\\selenium\\webdriver\\remote\\webdriver.py:353\u001b[0m, in \u001b[0;36mWebDriver.get\u001b[1;34m(self, url)\u001b[0m\n\u001b[0;32m    351\u001b[0m \u001b[39mdef\u001b[39;00m \u001b[39mget\u001b[39m(\u001b[39mself\u001b[39m, url: \u001b[39mstr\u001b[39m) \u001b[39m-\u001b[39m\u001b[39m>\u001b[39m \u001b[39mNone\u001b[39;00m:\n\u001b[0;32m    352\u001b[0m \u001b[39m    \u001b[39m\u001b[39m\"\"\"Loads a web page in the current browser session.\"\"\"\u001b[39;00m\n\u001b[1;32m--> 353\u001b[0m     \u001b[39mself\u001b[39m\u001b[39m.\u001b[39mexecute(Command\u001b[39m.\u001b[39mGET, {\u001b[39m\"\u001b[39m\u001b[39murl\u001b[39m\u001b[39m\"\u001b[39m: url})\n",
      "File \u001b[1;32mc:\\Users\\human\\anaconda3\\Lib\\site-packages\\selenium\\webdriver\\remote\\webdriver.py:344\u001b[0m, in \u001b[0;36mWebDriver.execute\u001b[1;34m(self, driver_command, params)\u001b[0m\n\u001b[0;32m    342\u001b[0m response \u001b[39m=\u001b[39m \u001b[39mself\u001b[39m\u001b[39m.\u001b[39mcommand_executor\u001b[39m.\u001b[39mexecute(driver_command, params)\n\u001b[0;32m    343\u001b[0m \u001b[39mif\u001b[39;00m response:\n\u001b[1;32m--> 344\u001b[0m     \u001b[39mself\u001b[39m\u001b[39m.\u001b[39merror_handler\u001b[39m.\u001b[39mcheck_response(response)\n\u001b[0;32m    345\u001b[0m     response[\u001b[39m\"\u001b[39m\u001b[39mvalue\u001b[39m\u001b[39m\"\u001b[39m] \u001b[39m=\u001b[39m \u001b[39mself\u001b[39m\u001b[39m.\u001b[39m_unwrap_value(response\u001b[39m.\u001b[39mget(\u001b[39m\"\u001b[39m\u001b[39mvalue\u001b[39m\u001b[39m\"\u001b[39m, \u001b[39mNone\u001b[39;00m))\n\u001b[0;32m    346\u001b[0m     \u001b[39mreturn\u001b[39;00m response\n",
      "File \u001b[1;32mc:\\Users\\human\\anaconda3\\Lib\\site-packages\\selenium\\webdriver\\remote\\errorhandler.py:229\u001b[0m, in \u001b[0;36mErrorHandler.check_response\u001b[1;34m(self, response)\u001b[0m\n\u001b[0;32m    227\u001b[0m         alert_text \u001b[39m=\u001b[39m value[\u001b[39m\"\u001b[39m\u001b[39malert\u001b[39m\u001b[39m\"\u001b[39m]\u001b[39m.\u001b[39mget(\u001b[39m\"\u001b[39m\u001b[39mtext\u001b[39m\u001b[39m\"\u001b[39m)\n\u001b[0;32m    228\u001b[0m     \u001b[39mraise\u001b[39;00m exception_class(message, screen, stacktrace, alert_text)  \u001b[39m# type: ignore[call-arg]  # mypy is not smart enough here\u001b[39;00m\n\u001b[1;32m--> 229\u001b[0m \u001b[39mraise\u001b[39;00m exception_class(message, screen, stacktrace)\n",
      "\u001b[1;31mNoSuchWindowException\u001b[0m: Message: no such window: target window already closed\nfrom unknown error: web view not found\n  (Session info: chrome=117.0.5938.89)\nStacktrace:\n\tGetHandleVerifier [0x00007FF6ED1178A2+54818]\n\t(No symbol) [0x00007FF6ED086AD2]\n\t(No symbol) [0x00007FF6ECF3DA3B]\n\t(No symbol) [0x00007FF6ECF1DEE8]\n\t(No symbol) [0x00007FF6ECFA3237]\n\t(No symbol) [0x00007FF6ECFB6C6F]\n\t(No symbol) [0x00007FF6ECF9E883]\n\t(No symbol) [0x00007FF6ECF73691]\n\t(No symbol) [0x00007FF6ECF748D4]\n\tGetHandleVerifier [0x00007FF6ED47B9A2+3610402]\n\tGetHandleVerifier [0x00007FF6ED4D1870+3962352]\n\tGetHandleVerifier [0x00007FF6ED4C9D5F+3930847]\n\tGetHandleVerifier [0x00007FF6ED1B3656+693206]\n\t(No symbol) [0x00007FF6ED091638]\n\t(No symbol) [0x00007FF6ED08D944]\n\t(No symbol) [0x00007FF6ED08DA72]\n\t(No symbol) [0x00007FF6ED07E123]\n\tBaseThreadInitThunk [0x00007FFE07797344+20]\n\tRtlUserThreadStart [0x00007FFE07D426B1+33]\n"
     ]
    }
   ],
   "source": [
    "answer_list = []\n",
    "for li in lis:\n",
    "    sub_url = li.select_one('a._searchListTitleAnchor')['href']\n",
    "    driver.get(sub_url)\n",
    "    time.sleep(2)\n",
    "\n",
    "    answer_num = driver.find_element(By.CSS_SELECTOR, '._answerCount.num').text\n",
    "    click_count = (int(answer_num) - 1) // 5\n",
    "    print(click_count, end=' ')\n",
    "    for _ in range(click_count):\n",
    "        driver.find_element(By.ID, 'nextPageButton').click()\n",
    "        time.sleep(2)\n",
    "    sub_soup = BeautifulSoup(driver.page_source, 'html.parser')\n",
    "    divs = sub_soup.select('.answer-content__list._answerList > div')\n",
    "    for div in divs:\n",
    "        ps = div.select('.se-text-paragraph.se-text-paragraph-align-')\n",
    "        answer = ''\n",
    "        for p in ps:\n",
    "            text = p.get_text().strip()\n",
    "            if text == '\\u200b' or text == '':\n",
    "                continue\n",
    "            answer += text + '\\n'\n",
    "        answer_list.append(answer)\n",
    "    driver.back()\n",
    "    time.sleep(2)"
   ]
  },
  {
   "cell_type": "code",
   "execution_count": 53,
   "metadata": {},
   "outputs": [
    {
     "data": {
      "text/plain": [
       "47"
      ]
     },
     "execution_count": 53,
     "metadata": {},
     "output_type": "execute_result"
    }
   ],
   "source": [
    "len(answer_list)"
   ]
  },
  {
   "cell_type": "markdown",
   "metadata": {},
   "source": [
    "- 1 ~ 10 페이지에 대한 답변 가져오기"
   ]
  },
  {
   "cell_type": "code",
   "execution_count": 66,
   "metadata": {},
   "outputs": [
    {
     "name": "stdout",
     "output_type": "stream",
     "text": [
      "0 0 0 0 0 0 0 1 1 3 \n",
      "1 5 0 1 1 1 3 3 0 0 \n",
      "1 0 2 4 2 1 0 5 4 0 \n",
      "2 0 2 6 2 2 2 1 3 4 \n",
      "3 2 1 0 1 1 0 0 2 1 \n",
      "1 2 3 0 1 3 2 3 2 1 \n",
      "1 4 2 1 1 3 3 1 1 2 \n",
      "1 1 0 0 0 1 1 0 0 5 \n",
      "3 0 2 0 1 2 0 2 8 0 \n",
      "0 3 0 0 1 2 3 0 1 0 \n"
     ]
    }
   ],
   "source": [
    "answer_list = []\n",
    "driver = webdriver.Chrome()\n",
    "for page in range(1, 11):\n",
    "    url = f'https://kin.naver.com/search/list.naver?query={quote(\"추석 선물\")}&page={page}'\n",
    "    driver.get(url)\n",
    "    time.sleep(2)\n",
    "    soup = BeautifulSoup(driver.page_source, 'html.parser')\n",
    "    lis = soup.select('.basic1 > li')\n",
    "\n",
    "    for li in lis:\n",
    "        sub_url = li.select_one('a._searchListTitleAnchor')['href']\n",
    "        driver.get(sub_url)\n",
    "        time.sleep(2)\n",
    "\n",
    "        answer_num = driver.find_element(By.CSS_SELECTOR, '._answerCount.num').text\n",
    "        click_count = (int(answer_num) - 1) // 5 \n",
    "        print(click_count, end=' ')\n",
    "        for _ in range(click_count):\n",
    "            driver.find_element(By.ID, 'nextPageButton').click()\n",
    "            time.sleep(2)\n",
    "\n",
    "        sub_soup = BeautifulSoup(driver.page_source, 'html.parser')\n",
    "        divs = sub_soup.select('.answer-content__list._answerList > div')\n",
    "        for div in divs:\n",
    "            ps = div.select('.se-text-paragraph.se-text-paragraph-align-')\n",
    "            answer = ''\n",
    "            for p in ps:\n",
    "                text = p.get_text().strip()\n",
    "                if text == '\\u200b' or text == '':\n",
    "                    continue\n",
    "                answer += text + '\\n'\n",
    "            answer_list.append(answer)\n",
    "\n",
    "        driver.back()\n",
    "        time.sleep(2)\n",
    "    print()\n",
    "\n",
    "driver.close()"
   ]
  },
  {
   "cell_type": "code",
   "execution_count": 67,
   "metadata": {},
   "outputs": [
    {
     "data": {
      "text/plain": [
       "994"
      ]
     },
     "execution_count": 67,
     "metadata": {},
     "output_type": "execute_result"
    }
   ],
   "source": [
    "len(answer_list)"
   ]
  },
  {
   "cell_type": "markdown",
   "metadata": {},
   "source": [
    "- 파일에 쓰기"
   ]
  },
  {
   "cell_type": "code",
   "execution_count": 68,
   "metadata": {},
   "outputs": [],
   "source": [
    "with open('data/추석선물.txt', 'w', encoding='utf-8') as file:\n",
    "    for answer in answer_list:\n",
    "        file.write(answer + '\\n')"
   ]
  },
  {
   "cell_type": "code",
   "execution_count": null,
   "metadata": {},
   "outputs": [],
   "source": []
  }
 ],
 "metadata": {
  "kernelspec": {
   "display_name": "base",
   "language": "python",
   "name": "python3"
  },
  "language_info": {
   "codemirror_mode": {
    "name": "ipython",
    "version": 3
   },
   "file_extension": ".py",
   "mimetype": "text/x-python",
   "name": "python",
   "nbconvert_exporter": "python",
   "pygments_lexer": "ipython3",
   "version": "3.11.4"
  },
  "orig_nbformat": 4
 },
 "nbformat": 4,
 "nbformat_minor": 2
}
