{
 "cells": [
  {
   "cell_type": "markdown",
   "metadata": {},
   "source": [
    "### member_dao를 이용한 DB Access"
   ]
  },
  {
   "cell_type": "code",
   "execution_count": 12,
   "metadata": {},
   "outputs": [],
   "source": [
    "import member_dao as mdao"
   ]
  },
  {
   "cell_type": "code",
   "execution_count": 14,
   "metadata": {},
   "outputs": [
    {
     "ename": "AttributeError",
     "evalue": "module 'member_dao' has no attribute 'get_members'",
     "output_type": "error",
     "traceback": [
      "\u001b[1;31m---------------------------------------------------------------------------\u001b[0m",
      "\u001b[1;31mAttributeError\u001b[0m                            Traceback (most recent call last)",
      "\u001b[1;32md:\\WorkSpace\\02.DataAnalysis\\09.SQLite3\\02.DBAccess.ipynb 셀 3\u001b[0m line \u001b[0;36m1\n\u001b[1;32m----> <a href='vscode-notebook-cell:/d%3A/WorkSpace/02.DataAnalysis/09.SQLite3/02.DBAccess.ipynb#W2sZmlsZQ%3D%3D?line=0'>1</a>\u001b[0m results \u001b[39m=\u001b[39m mdao\u001b[39m.\u001b[39mget_members()\n\u001b[0;32m      <a href='vscode-notebook-cell:/d%3A/WorkSpace/02.DataAnalysis/09.SQLite3/02.DBAccess.ipynb#W2sZmlsZQ%3D%3D?line=1'>2</a>\u001b[0m \u001b[39mfor\u001b[39;00m row \u001b[39min\u001b[39;00m results:\n\u001b[0;32m      <a href='vscode-notebook-cell:/d%3A/WorkSpace/02.DataAnalysis/09.SQLite3/02.DBAccess.ipynb#W2sZmlsZQ%3D%3D?line=2'>3</a>\u001b[0m     \u001b[39mprint\u001b[39m(row)\n",
      "\u001b[1;31mAttributeError\u001b[0m: module 'member_dao' has no attribute 'get_members'"
     ]
    }
   ],
   "source": [
    "results = mdao.get_members()\n",
    "for row in results:\n",
    "    print(row)"
   ]
  },
  {
   "cell_type": "code",
   "execution_count": null,
   "metadata": {},
   "outputs": [
    {
     "ename": "AttributeError",
     "evalue": "module 'member_dao' has no attribute 'insert_member'",
     "output_type": "error",
     "traceback": [
      "\u001b[1;31m---------------------------------------------------------------------------\u001b[0m",
      "\u001b[1;31mAttributeError\u001b[0m                            Traceback (most recent call last)",
      "\u001b[1;32md:\\WorkSpace\\02.DataAnalysis\\09.SQLite3\\02.DBAccess.ipynb 셀 4\u001b[0m line \u001b[0;36m2\n\u001b[0;32m      <a href='vscode-notebook-cell:/d%3A/WorkSpace/02.DataAnalysis/09.SQLite3/02.DBAccess.ipynb#W3sZmlsZQ%3D%3D?line=0'>1</a>\u001b[0m params \u001b[39m=\u001b[39m (\u001b[39m'\u001b[39m\u001b[39m박연진\u001b[39m\u001b[39m'\u001b[39m, \u001b[39m35\u001b[39m)\n\u001b[1;32m----> <a href='vscode-notebook-cell:/d%3A/WorkSpace/02.DataAnalysis/09.SQLite3/02.DBAccess.ipynb#W3sZmlsZQ%3D%3D?line=1'>2</a>\u001b[0m mdao\u001b[39m.\u001b[39minsert_member(params)\n\u001b[0;32m      <a href='vscode-notebook-cell:/d%3A/WorkSpace/02.DataAnalysis/09.SQLite3/02.DBAccess.ipynb#W3sZmlsZQ%3D%3D?line=2'>3</a>\u001b[0m result \u001b[39m=\u001b[39m mdao\u001b[39m.\u001b[39mget_member_by_mid(\u001b[39m6\u001b[39m)\n\u001b[0;32m      <a href='vscode-notebook-cell:/d%3A/WorkSpace/02.DataAnalysis/09.SQLite3/02.DBAccess.ipynb#W3sZmlsZQ%3D%3D?line=3'>4</a>\u001b[0m \u001b[39mprint\u001b[39m(result)\n",
      "\u001b[1;31mAttributeError\u001b[0m: module 'member_dao' has no attribute 'insert_member'"
     ]
    }
   ],
   "source": [
    "params = ('박연진', 35)\n",
    "mdao.insert_member(params)\n",
    "result = mdao.get_member_by_mid(6)\n",
    "print(result)"
   ]
  },
  {
   "cell_type": "code",
   "execution_count": null,
   "metadata": {},
   "outputs": [
    {
     "ename": "AttributeError",
     "evalue": "module 'member_dao' has no attribute 'update_member'",
     "output_type": "error",
     "traceback": [
      "\u001b[1;31m---------------------------------------------------------------------------\u001b[0m",
      "\u001b[1;31mAttributeError\u001b[0m                            Traceback (most recent call last)",
      "\u001b[1;32md:\\WorkSpace\\02.DataAnalysis\\09.SQLite3\\02.DBAccess.ipynb 셀 5\u001b[0m line \u001b[0;36m2\n\u001b[0;32m      <a href='vscode-notebook-cell:/d%3A/WorkSpace/02.DataAnalysis/09.SQLite3/02.DBAccess.ipynb#W4sZmlsZQ%3D%3D?line=0'>1</a>\u001b[0m params \u001b[39m=\u001b[39m (\u001b[39m'\u001b[39m\u001b[39mpark\u001b[39m\u001b[39m'\u001b[39m, \u001b[39m35\u001b[39m, \u001b[39m6\u001b[39m)\n\u001b[1;32m----> <a href='vscode-notebook-cell:/d%3A/WorkSpace/02.DataAnalysis/09.SQLite3/02.DBAccess.ipynb#W4sZmlsZQ%3D%3D?line=1'>2</a>\u001b[0m mdao\u001b[39m.\u001b[39mupdate_member(params)\n\u001b[0;32m      <a href='vscode-notebook-cell:/d%3A/WorkSpace/02.DataAnalysis/09.SQLite3/02.DBAccess.ipynb#W4sZmlsZQ%3D%3D?line=2'>3</a>\u001b[0m result \u001b[39m=\u001b[39m mdao\u001b[39m.\u001b[39mget_member_by_mid(\u001b[39m6\u001b[39m)\n\u001b[0;32m      <a href='vscode-notebook-cell:/d%3A/WorkSpace/02.DataAnalysis/09.SQLite3/02.DBAccess.ipynb#W4sZmlsZQ%3D%3D?line=3'>4</a>\u001b[0m \u001b[39mprint\u001b[39m(result)\n",
      "\u001b[1;31mAttributeError\u001b[0m: module 'member_dao' has no attribute 'update_member'"
     ]
    }
   ],
   "source": [
    "params = ('park', 35, 6)\n",
    "mdao.update_member(params)\n",
    "result = mdao.get_member_by_mid(6)\n",
    "print(result)"
   ]
  },
  {
   "cell_type": "code",
   "execution_count": null,
   "metadata": {},
   "outputs": [],
   "source": [
    "mdao.delete_mamber(6)\n",
    "mdao.update_member(params)\n",
    "result = mdao.get_member_by_mid(6)\n",
    "print(result)"
   ]
  }
 ],
 "metadata": {
  "kernelspec": {
   "display_name": "base",
   "language": "python",
   "name": "python3"
  },
  "language_info": {
   "codemirror_mode": {
    "name": "ipython",
    "version": 3
   },
   "file_extension": ".py",
   "mimetype": "text/x-python",
   "name": "python",
   "nbconvert_exporter": "python",
   "pygments_lexer": "ipython3",
   "version": "3.11.4"
  },
  "orig_nbformat": 4
 },
 "nbformat": 4,
 "nbformat_minor": 2
}
